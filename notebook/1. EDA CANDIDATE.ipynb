{
 "cells": [
  {
   "attachments": {},
   "cell_type": "markdown",
   "id": "1e233234",
   "metadata": {},
   "source": [
    "## Candidate EDA\n"
   ]
  },
  {
   "cell_type": "markdown",
   "id": "62e05101",
   "metadata": {},
   "source": [
    "#### Life cycle \n",
    "\n",
    "- Data Collection\n",
    "- Data Checks to perform\n",
    "- Exploratory data analysis\n",
    "- Data Pre-Processing\n",
    "- Model Training\n",
    "- Choose best model"
   ]
  },
  {
   "cell_type": "markdown",
   "id": "dfcea981",
   "metadata": {},
   "source": [
    "### 1) Problem statement\n",
    "- Implement a pipeline that automatically encodes to a vector\n",
    "space the candidate information.\n",
    "\n",
    "\n",
    "### 2) Data Collection\n",
    "- Dataset Source - data/candidates.cs"
   ]
  },
  {
   "cell_type": "markdown",
   "id": "15b1355f",
   "metadata": {},
   "source": [
    "### 2.1 Import Data and Required Packages\n",
    "####  Importing Pandas, Numpy, Matplotlib, Seaborn and Warings Library."
   ]
  },
  {
   "cell_type": "code",
   "execution_count": 3,
   "id": "7eaae1d7",
   "metadata": {},
   "outputs": [
    {
     "name": "stderr",
     "output_type": "stream",
     "text": [
      "/Users/terah/develop/personal/assignment/ml-project/venv/lib/python3.11/site-packages/tqdm/auto.py:21: TqdmWarning: IProgress not found. Please update jupyter and ipywidgets. See https://ipywidgets.readthedocs.io/en/stable/user_install.html\n",
      "  from .autonotebook import tqdm as notebook_tqdm\n"
     ]
    }
   ],
   "source": [
    "import numpy as np\n",
    "import pandas as pd\n",
    "import seaborn as sns\n",
    "import matplotlib.pyplot as plt\n",
    "from sentence_transformers import SentenceTransformer\n",
    "import re\n",
    "import json\n",
    "import pickle\n",
    "from tqdm import tqdm\n",
    "%matplotlib inline\n",
    "import warnings\n",
    "warnings.filterwarnings('ignore')"
   ]
  },
  {
   "cell_type": "markdown",
   "id": "3caeb0bb",
   "metadata": {},
   "source": [
    "#### Import the CSV Data as Pandas DataFrame"
   ]
  },
  {
   "cell_type": "code",
   "execution_count": 23,
   "id": "57907087",
   "metadata": {},
   "outputs": [],
   "source": [
    "df = pd.read_csv('data/candidates.csv')"
   ]
  },
  {
   "cell_type": "markdown",
   "id": "92c8fd8a",
   "metadata": {},
   "source": [
    "#### Show Top 5 Records"
   ]
  },
  {
   "cell_type": "code",
   "execution_count": 24,
   "id": "7d1a2a0b",
   "metadata": {},
   "outputs": [
    {
     "data": {
      "text/html": [
       "<div>\n",
       "<style scoped>\n",
       "    .dataframe tbody tr th:only-of-type {\n",
       "        vertical-align: middle;\n",
       "    }\n",
       "\n",
       "    .dataframe tbody tr th {\n",
       "        vertical-align: top;\n",
       "    }\n",
       "\n",
       "    .dataframe thead th {\n",
       "        text-align: right;\n",
       "    }\n",
       "</style>\n",
       "<table border=\"1\" class=\"dataframe\">\n",
       "  <thead>\n",
       "    <tr style=\"text-align: right;\">\n",
       "      <th></th>\n",
       "      <th></th>\n",
       "      <th></th>\n",
       "      <th></th>\n",
       "      <th></th>\n",
       "      <th></th>\n",
       "      <th></th>\n",
       "      <th></th>\n",
       "      <th></th>\n",
       "      <th></th>\n",
       "      <th></th>\n",
       "      <th></th>\n",
       "      <th></th>\n",
       "      <th></th>\n",
       "      <th></th>\n",
       "      <th></th>\n",
       "      <th></th>\n",
       "      <th></th>\n",
       "      <th></th>\n",
       "      <th></th>\n",
       "      <th></th>\n",
       "      <th></th>\n",
       "      <th></th>\n",
       "      <th></th>\n",
       "      <th></th>\n",
       "      <th></th>\n",
       "      <th></th>\n",
       "      <th></th>\n",
       "      <th></th>\n",
       "      <th></th>\n",
       "      <th></th>\n",
       "      <th></th>\n",
       "      <th></th>\n",
       "      <th></th>\n",
       "      <th></th>\n",
       "      <th></th>\n",
       "      <th></th>\n",
       "      <th></th>\n",
       "      <th></th>\n",
       "      <th></th>\n",
       "      <th></th>\n",
       "      <th></th>\n",
       "      <th></th>\n",
       "      <th></th>\n",
       "      <th></th>\n",
       "      <th></th>\n",
       "      <th></th>\n",
       "      <th></th>\n",
       "      <th></th>\n",
       "      <th></th>\n",
       "      <th></th>\n",
       "      <th></th>\n",
       "      <th></th>\n",
       "      <th></th>\n",
       "      <th></th>\n",
       "      <th></th>\n",
       "      <th></th>\n",
       "      <th></th>\n",
       "      <th></th>\n",
       "      <th></th>\n",
       "      <th></th>\n",
       "      <th></th>\n",
       "      <th></th>\n",
       "      <th></th>\n",
       "      <th>LI - List of Experience Information</th>\n",
       "    </tr>\n",
       "  </thead>\n",
       "  <tbody>\n",
       "    <tr>\n",
       "      <th>[{\"company\":\"Next Billion Advisors\"</th>\n",
       "      <th>title:\"Product Advisor\"</th>\n",
       "      <th>description:\"\"</th>\n",
       "      <th>location:\"San Francisco Bay Area\"</th>\n",
       "      <th>company_linkedin_profile_url:\"https://www.linkedin.com/company/nxtblln/\"</th>\n",
       "      <th>months:24}</th>\n",
       "      <th>{\"company\":\"On Deck\"</th>\n",
       "      <th>title:\"Community Building &amp; No Code Fellow\"</th>\n",
       "      <th>description:\"\"</th>\n",
       "      <th>location:\"\"</th>\n",
       "      <th>company_linkedin_profile_url:\"https://www.linkedin.com/company/beondeck/\"</th>\n",
       "      <th>months:9}</th>\n",
       "      <th>{\"company\":\"Pariti\"</th>\n",
       "      <th>title:\"Chief Data Officer\"</th>\n",
       "      <th>description:\"\"</th>\n",
       "      <th>location:\"\"</th>\n",
       "      <th>company_linkedin_profile_url:\"https://www.linkedin.com/company/paritinetworks/\"</th>\n",
       "      <th>months:39}</th>\n",
       "      <th>{\"company\":\"Pariti\"</th>\n",
       "      <th>title:\"Chief Product Officer\"</th>\n",
       "      <th>description:\"Pariti is a community backed marketplace building a digital campus for entrepreneurship in emerging markets. \\n\\nhttps://www.pariti.io/\"</th>\n",
       "      <th>location:\"\"</th>\n",
       "      <th>company_linkedin_profile_url:\"https://www.linkedin.com/company/paritinetworks/\"</th>\n",
       "      <th>months:39}</th>\n",
       "      <th>{\"company\":\"Instagram\"</th>\n",
       "      <th>title:\"Technical Program Manager\"</th>\n",
       "      <th>description:\"• Led real-time communication infrastructure at Instagram</th>\n",
       "      <th>articulating technology requirements and devising performance frameworks driving scalability</th>\n",
       "      <th>reliability and efficiency.\\n• Effectively communicated infrastructure and operational strategy to executive leadership at\\nInstagram</th>\n",
       "      <th>manage cross-functional dependencies across infrastructure and product\\nmanagement across Facebook.\\n• Drove ideation and launch of innovative products with design and engineering by\\nintegrating usability studies</th>\n",
       "      <th>research and market analysis into user needs and product\\nrequirements.\"</th>\n",
       "      <th>location:\"San Francisco Bay Area\"</th>\n",
       "      <th>company_linkedin_profile_url:\"https://www.linkedin.com/company/instagram/\"</th>\n",
       "      <th>months:19}</th>\n",
       "      <th>{\"company\":\"Facebook\"</th>\n",
       "      <th>title:\"Product Analytics\"</th>\n",
       "      <th>description:\"• Scaled customer insights by creating a program to consolidate structured and\\nunstructured signals across the organization funneling advertiser feedback in the form of\\nactionable insights to product.\\n• Enhanced the advertiser experience increasing ad revenue through analyzing product\\nquality</th>\n",
       "      <th>stability</th>\n",
       "      <th>and advertiser behavior on Facebook.\\n• Innovated advertiser support by redesigning the support flow and\\ndevising an automated and scalable support platform to reduce operational costs</th>\n",
       "      <th>improve operational metrics and data collection.\"</th>\n",
       "      <th>location:\"Menlo Park</th>\n",
       "      <th>California\"</th>\n",
       "      <th>company_linkedin_profile_url:\"https://www.linkedin.com/company/facebook/\"</th>\n",
       "      <th>months:27}</th>\n",
       "      <th>{\"company\":\"Navigant\"</th>\n",
       "      <th>title:\"Senior Consultant\"</th>\n",
       "      <th>description:\"•\\tExecute engagement tasks related to banking regulations</th>\n",
       "      <th>compliance</th>\n",
       "      <th>operational improvement</th>\n",
       "      <th>technology governance</th>\n",
       "      <th>business architecture</th>\n",
       "      <th>business process management</th>\n",
       "      <th>software implementation\\n•\\tPlay a lead role in automating operational processes</th>\n",
       "      <th>ensuring integrity and consistency of data throughout various projects through unstructured/structured data manipulation.\\n•\\tSupport and contribute to the development of the practice by acting as Internal News Lead and Coordinator</th>\n",
       "      <th>Marketing Coordinator</th>\n",
       "      <th>and a co-author of a Big Data analytics thought leadership article and manage invoicing for clients\"</th>\n",
       "      <th>location:\"\"</th>\n",
       "      <th>company_linkedin_profile_url:\"https://www.linkedin.com/company/navigant/\"</th>\n",
       "      <th>months:20}</th>\n",
       "      <th>{\"company\":\"DIA Associates\"</th>\n",
       "      <th>title:\"Data Scientist\"</th>\n",
       "      <th>description:\"Responsibilities:\\n•\\tManaging a project to identify patterns of revolve behavior to signal consumers’ short-term lending needs.\\n•\\tLeverage data sources and traditional frameworks for micro-segment profitability including pricing and segmentation.\\n•\\tDesign incentivized portfolios and compensation plans for client advisors to avoid gaming behavior.\\n•\\tPresent innovative solutions to senior executives for optimal execution at a Fortune 500 credit card services client.\\n•\\tConduct and ensure quality of big data analyses using SAS and SQL on a daily basis.\"</th>\n",
       "      <th>location:\"Greater New York City Area\"</th>\n",
       "      <th>company_linkedin_profile_url:\"\"</th>\n",
       "      <td>months:11}]</td>\n",
       "    </tr>\n",
       "  </tbody>\n",
       "</table>\n",
       "</div>"
      ],
      "text/plain": [
       "                                                                                                                                                                                                                                                                                                                                                                                                                                                                                                                                                                                                                                                                                                                                                                                                                                                                                                                                                                                                                                                                                                                                                                                                                                                                                                                                                                                                                                                                                                                                                                                                                                                                                                                                                                                                                                                                                                                                                                                                                                                                LI - List of Experience Information\n",
       "[{\"company\":\"Next Billion Advisors\" title:\"Product Advisor\" description:\"\" location:\"San Francisco Bay Area\" company_linkedin_profile_url:\"https://www.linke... months:24} {\"company\":\"On Deck\" title:\"Community Building & No Code Fellow\" description:\"\" location:\"\" company_linkedin_profile_url:\"https://www.linke... months:9} {\"company\":\"Pariti\" title:\"Chief Data Officer\" description:\"\" location:\"\" company_linkedin_profile_url:\"https://www.linke... months:39} {\"company\":\"Pariti\" title:\"Chief Product Officer\" description:\"Pariti is a community backed marke... location:\"\" company_linkedin_profile_url:\"https://www.linke... months:39} {\"company\":\"Instagram\" title:\"Technical Program Manager\" description:\"• Led real-time communication infr...  articulating technology requirements and devis...  reliability and efficiency.\\n• Effectively com...  manage cross-functional dependencies across in...  research and market analysis into user needs a... location:\"San Francisco Bay Area\" company_linkedin_profile_url:\"https://www.linke... months:19} {\"company\":\"Facebook\" title:\"Product Analytics\" description:\"• Scaled customer insights by crea...  stability  and advertiser behavior on Facebook.\\n• Innova...  improve operational metrics and data collection.\" location:\"Menlo Park  California\" company_linkedin_profile_url:\"https://www.linke... months:27} {\"company\":\"Navigant\" title:\"Senior Consultant\" description:\"•\\tExecute engagement tasks relate...  compliance  operational improvement  technology governance  business architecture  business process management  software implementation\\n•\\tPlay a lead role i...  ensuring integrity and consistency of data thr...  Marketing Coordinator  and a co-author of a Big Data analytics though... location:\"\" company_linkedin_profile_url:\"https://www.linke... months:20} {\"company\":\"DIA Associates\" title:\"Data Scientist\" description:\"Responsibilities:\\n•\\tManaging a p... location:\"Greater New York City Area\" company_linkedin_profile_url:\"\"                         months:11}]"
      ]
     },
     "execution_count": 24,
     "metadata": {},
     "output_type": "execute_result"
    }
   ],
   "source": [
    "df.head()"
   ]
  },
  {
   "cell_type": "markdown",
   "id": "56a49220",
   "metadata": {},
   "source": [
    "#### Shape of the dataset"
   ]
  },
  {
   "cell_type": "code",
   "execution_count": 25,
   "id": "417e5820",
   "metadata": {},
   "outputs": [
    {
     "data": {
      "text/plain": [
       "(1, 1)"
      ]
     },
     "execution_count": 25,
     "metadata": {},
     "output_type": "execute_result"
    }
   ],
   "source": [
    "df.shape"
   ]
  },
  {
   "cell_type": "markdown",
   "id": "27c4b61b",
   "metadata": {},
   "source": [
    "### 3. Data Checks to perform\n",
    "\n",
    "- Check Missing values\n",
    "- Check Duplicates\n",
    "- Check data type\n",
    "- Check the number of unique values of each column\n",
    "- Check statistics of data set\n",
    "- Check various categories present in the different categorical column"
   ]
  },
  {
   "cell_type": "markdown",
   "id": "c31d4123",
   "metadata": {},
   "source": [
    "### 3.1 Check Missing values"
   ]
  },
  {
   "cell_type": "code",
   "execution_count": 26,
   "id": "707d6a7b",
   "metadata": {},
   "outputs": [
    {
     "data": {
      "text/plain": [
       "LI - List of Experience Information    0\n",
       "dtype: int64"
      ]
     },
     "execution_count": 26,
     "metadata": {},
     "output_type": "execute_result"
    }
   ],
   "source": [
    "df.isna().sum()"
   ]
  },
  {
   "cell_type": "markdown",
   "id": "ce8f7b83",
   "metadata": {},
   "source": [
    "#### There are no missing values in the data set"
   ]
  },
  {
   "cell_type": "markdown",
   "id": "5840ff7f",
   "metadata": {},
   "source": [
    "### 3.2 Check Duplicates"
   ]
  },
  {
   "cell_type": "code",
   "execution_count": 27,
   "id": "ae16686e",
   "metadata": {},
   "outputs": [
    {
     "data": {
      "text/plain": [
       "0"
      ]
     },
     "execution_count": 27,
     "metadata": {},
     "output_type": "execute_result"
    }
   ],
   "source": [
    "df.duplicated().sum()"
   ]
  },
  {
   "cell_type": "markdown",
   "id": "e5d7ae8e",
   "metadata": {},
   "source": [
    "#### There are no duplicates  values in the data set"
   ]
  },
  {
   "cell_type": "markdown",
   "id": "30dfacc8",
   "metadata": {},
   "source": [
    "### 3.3 Check data types"
   ]
  },
  {
   "cell_type": "code",
   "execution_count": 28,
   "id": "25f95bc8",
   "metadata": {},
   "outputs": [
    {
     "name": "stdout",
     "output_type": "stream",
     "text": [
      "<class 'pandas.core.frame.DataFrame'>\n",
      "MultiIndex: 1 entries, ('[{\"company\":\"Next Billion Advisors\"', 'title:\"Product Advisor\"', 'description:\"\"', 'location:\"San Francisco Bay Area\"', 'company_linkedin_profile_url:\"https://www.linkedin.com/company/nxtblln/\"', 'months:24}', '{\"company\":\"On Deck\"', 'title:\"Community Building & No Code Fellow\"', 'description:\"\"', 'location:\"\"', 'company_linkedin_profile_url:\"https://www.linkedin.com/company/beondeck/\"', 'months:9}', '{\"company\":\"Pariti\"', 'title:\"Chief Data Officer\"', 'description:\"\"', 'location:\"\"', 'company_linkedin_profile_url:\"https://www.linkedin.com/company/paritinetworks/\"', 'months:39}', '{\"company\":\"Pariti\"', 'title:\"Chief Product Officer\"', 'description:\"Pariti is a community backed marketplace building a digital campus for entrepreneurship in emerging markets. \\\\n\\\\nhttps://www.pariti.io/\"', 'location:\"\"', 'company_linkedin_profile_url:\"https://www.linkedin.com/company/paritinetworks/\"', 'months:39}', '{\"company\":\"Instagram\"', 'title:\"Technical Program Manager\"', 'description:\"• Led real-time communication infrastructure at Instagram', ' articulating technology requirements and devising performance frameworks driving scalability', ' reliability and efficiency.\\\\n• Effectively communicated infrastructure and operational strategy to executive leadership at\\\\nInstagram', ' manage cross-functional dependencies across infrastructure and product\\\\nmanagement across Facebook.\\\\n• Drove ideation and launch of innovative products with design and engineering by\\\\nintegrating usability studies', ' research and market analysis into user needs and product\\\\nrequirements.\"', 'location:\"San Francisco Bay Area\"', 'company_linkedin_profile_url:\"https://www.linkedin.com/company/instagram/\"', 'months:19}', '{\"company\":\"Facebook\"', 'title:\"Product Analytics\"', 'description:\"• Scaled customer insights by creating a program to consolidate structured and\\\\nunstructured signals across the organization funneling advertiser feedback in the form of\\\\nactionable insights to product.\\\\n• Enhanced the advertiser experience increasing ad revenue through analyzing product\\\\nquality', ' stability', ' and advertiser behavior on Facebook.\\\\n• Innovated advertiser support by redesigning the support flow and\\\\ndevising an automated and scalable support platform to reduce operational costs', ' improve operational metrics and data collection.\"', 'location:\"Menlo Park', ' California\"', 'company_linkedin_profile_url:\"https://www.linkedin.com/company/facebook/\"', 'months:27}', '{\"company\":\"Navigant\"', 'title:\"Senior Consultant\"', 'description:\"•\\\\tExecute engagement tasks related to banking regulations', ' compliance', ' operational improvement', ' technology governance', ' business architecture', ' business process management', ' software implementation\\\\n•\\\\tPlay a lead role in automating operational processes', ' ensuring integrity and consistency of data throughout various projects through unstructured/structured data manipulation.\\\\n•\\\\tSupport and contribute to the development of the practice by acting as Internal News Lead and Coordinator', ' Marketing Coordinator', ' and a co-author of a Big Data analytics thought leadership article and manage invoicing for clients\"', 'location:\"\"', 'company_linkedin_profile_url:\"https://www.linkedin.com/company/navigant/\"', 'months:20}', '{\"company\":\"DIA Associates\"', 'title:\"Data Scientist\"', 'description:\"Responsibilities:\\\\n•\\\\tManaging a project to identify patterns of revolve behavior to signal consumers’ short-term lending needs.\\\\n•\\\\tLeverage data sources and traditional frameworks for micro-segment profitability including pricing and segmentation.\\\\n•\\\\tDesign incentivized portfolios and compensation plans for client advisors to avoid gaming behavior.\\\\n•\\\\tPresent innovative solutions to senior executives for optimal execution at a Fortune 500 credit card services client.\\\\n•\\\\tConduct and ensure quality of big data analyses using SAS and SQL on a daily basis.\"', 'location:\"Greater New York City Area\"', 'company_linkedin_profile_url:\"\"') to ('[{\"company\":\"Next Billion Advisors\"', 'title:\"Product Advisor\"', 'description:\"\"', 'location:\"San Francisco Bay Area\"', 'company_linkedin_profile_url:\"https://www.linkedin.com/company/nxtblln/\"', 'months:24}', '{\"company\":\"On Deck\"', 'title:\"Community Building & No Code Fellow\"', 'description:\"\"', 'location:\"\"', 'company_linkedin_profile_url:\"https://www.linkedin.com/company/beondeck/\"', 'months:9}', '{\"company\":\"Pariti\"', 'title:\"Chief Data Officer\"', 'description:\"\"', 'location:\"\"', 'company_linkedin_profile_url:\"https://www.linkedin.com/company/paritinetworks/\"', 'months:39}', '{\"company\":\"Pariti\"', 'title:\"Chief Product Officer\"', 'description:\"Pariti is a community backed marketplace building a digital campus for entrepreneurship in emerging markets. \\\\n\\\\nhttps://www.pariti.io/\"', 'location:\"\"', 'company_linkedin_profile_url:\"https://www.linkedin.com/company/paritinetworks/\"', 'months:39}', '{\"company\":\"Instagram\"', 'title:\"Technical Program Manager\"', 'description:\"• Led real-time communication infrastructure at Instagram', ' articulating technology requirements and devising performance frameworks driving scalability', ' reliability and efficiency.\\\\n• Effectively communicated infrastructure and operational strategy to executive leadership at\\\\nInstagram', ' manage cross-functional dependencies across infrastructure and product\\\\nmanagement across Facebook.\\\\n• Drove ideation and launch of innovative products with design and engineering by\\\\nintegrating usability studies', ' research and market analysis into user needs and product\\\\nrequirements.\"', 'location:\"San Francisco Bay Area\"', 'company_linkedin_profile_url:\"https://www.linkedin.com/company/instagram/\"', 'months:19}', '{\"company\":\"Facebook\"', 'title:\"Product Analytics\"', 'description:\"• Scaled customer insights by creating a program to consolidate structured and\\\\nunstructured signals across the organization funneling advertiser feedback in the form of\\\\nactionable insights to product.\\\\n• Enhanced the advertiser experience increasing ad revenue through analyzing product\\\\nquality', ' stability', ' and advertiser behavior on Facebook.\\\\n• Innovated advertiser support by redesigning the support flow and\\\\ndevising an automated and scalable support platform to reduce operational costs', ' improve operational metrics and data collection.\"', 'location:\"Menlo Park', ' California\"', 'company_linkedin_profile_url:\"https://www.linkedin.com/company/facebook/\"', 'months:27}', '{\"company\":\"Navigant\"', 'title:\"Senior Consultant\"', 'description:\"•\\\\tExecute engagement tasks related to banking regulations', ' compliance', ' operational improvement', ' technology governance', ' business architecture', ' business process management', ' software implementation\\\\n•\\\\tPlay a lead role in automating operational processes', ' ensuring integrity and consistency of data throughout various projects through unstructured/structured data manipulation.\\\\n•\\\\tSupport and contribute to the development of the practice by acting as Internal News Lead and Coordinator', ' Marketing Coordinator', ' and a co-author of a Big Data analytics thought leadership article and manage invoicing for clients\"', 'location:\"\"', 'company_linkedin_profile_url:\"https://www.linkedin.com/company/navigant/\"', 'months:20}', '{\"company\":\"DIA Associates\"', 'title:\"Data Scientist\"', 'description:\"Responsibilities:\\\\n•\\\\tManaging a project to identify patterns of revolve behavior to signal consumers’ short-term lending needs.\\\\n•\\\\tLeverage data sources and traditional frameworks for micro-segment profitability including pricing and segmentation.\\\\n•\\\\tDesign incentivized portfolios and compensation plans for client advisors to avoid gaming behavior.\\\\n•\\\\tPresent innovative solutions to senior executives for optimal execution at a Fortune 500 credit card services client.\\\\n•\\\\tConduct and ensure quality of big data analyses using SAS and SQL on a daily basis.\"', 'location:\"Greater New York City Area\"', 'company_linkedin_profile_url:\"\"')\n",
      "Data columns (total 1 columns):\n",
      " #   Column                               Non-Null Count  Dtype \n",
      "---  ------                               --------------  ----- \n",
      " 0   LI - List of Experience Information  1 non-null      object\n",
      "dtypes: object(1)\n",
      "memory usage: 8.3+ KB\n"
     ]
    }
   ],
   "source": [
    "# Check Null and Dtypes\n",
    "df.info()"
   ]
  },
  {
   "cell_type": "markdown",
   "id": "0dbbf5b4",
   "metadata": {},
   "source": [
    "### 3.4 Checking the number of unique values of each column"
   ]
  },
  {
   "cell_type": "code",
   "execution_count": 29,
   "id": "2c2b61b6",
   "metadata": {},
   "outputs": [
    {
     "data": {
      "text/plain": [
       "LI - List of Experience Information    1\n",
       "dtype: int64"
      ]
     },
     "execution_count": 29,
     "metadata": {},
     "output_type": "execute_result"
    }
   ],
   "source": [
    "df.nunique()"
   ]
  },
  {
   "cell_type": "markdown",
   "id": "a4f6b022",
   "metadata": {},
   "source": [
    "### 3.5 Check statistics of data set"
   ]
  },
  {
   "cell_type": "code",
   "execution_count": 30,
   "id": "76c608dc",
   "metadata": {},
   "outputs": [
    {
     "data": {
      "text/html": [
       "<div>\n",
       "<style scoped>\n",
       "    .dataframe tbody tr th:only-of-type {\n",
       "        vertical-align: middle;\n",
       "    }\n",
       "\n",
       "    .dataframe tbody tr th {\n",
       "        vertical-align: top;\n",
       "    }\n",
       "\n",
       "    .dataframe thead th {\n",
       "        text-align: right;\n",
       "    }\n",
       "</style>\n",
       "<table border=\"1\" class=\"dataframe\">\n",
       "  <thead>\n",
       "    <tr style=\"text-align: right;\">\n",
       "      <th></th>\n",
       "      <th>LI - List of Experience Information</th>\n",
       "    </tr>\n",
       "  </thead>\n",
       "  <tbody>\n",
       "    <tr>\n",
       "      <th>count</th>\n",
       "      <td>1</td>\n",
       "    </tr>\n",
       "    <tr>\n",
       "      <th>unique</th>\n",
       "      <td>1</td>\n",
       "    </tr>\n",
       "    <tr>\n",
       "      <th>top</th>\n",
       "      <td>months:11}]</td>\n",
       "    </tr>\n",
       "    <tr>\n",
       "      <th>freq</th>\n",
       "      <td>1</td>\n",
       "    </tr>\n",
       "  </tbody>\n",
       "</table>\n",
       "</div>"
      ],
      "text/plain": [
       "       LI - List of Experience Information\n",
       "count                                    1\n",
       "unique                                   1\n",
       "top                            months:11}]\n",
       "freq                                     1"
      ]
     },
     "execution_count": 30,
     "metadata": {},
     "output_type": "execute_result"
    }
   ],
   "source": [
    "df.describe()"
   ]
  },
  {
   "cell_type": "markdown",
   "id": "ac52d9cb",
   "metadata": {},
   "source": [
    "### 3.7 Exploring Data"
   ]
  },
  {
   "cell_type": "code",
   "execution_count": 31,
   "id": "1afd3c09",
   "metadata": {},
   "outputs": [
    {
     "data": {
      "text/html": [
       "<div>\n",
       "<style scoped>\n",
       "    .dataframe tbody tr th:only-of-type {\n",
       "        vertical-align: middle;\n",
       "    }\n",
       "\n",
       "    .dataframe tbody tr th {\n",
       "        vertical-align: top;\n",
       "    }\n",
       "\n",
       "    .dataframe thead th {\n",
       "        text-align: right;\n",
       "    }\n",
       "</style>\n",
       "<table border=\"1\" class=\"dataframe\">\n",
       "  <thead>\n",
       "    <tr style=\"text-align: right;\">\n",
       "      <th></th>\n",
       "      <th></th>\n",
       "      <th></th>\n",
       "      <th></th>\n",
       "      <th></th>\n",
       "      <th></th>\n",
       "      <th></th>\n",
       "      <th></th>\n",
       "      <th></th>\n",
       "      <th></th>\n",
       "      <th></th>\n",
       "      <th></th>\n",
       "      <th></th>\n",
       "      <th></th>\n",
       "      <th></th>\n",
       "      <th></th>\n",
       "      <th></th>\n",
       "      <th></th>\n",
       "      <th></th>\n",
       "      <th></th>\n",
       "      <th></th>\n",
       "      <th></th>\n",
       "      <th></th>\n",
       "      <th></th>\n",
       "      <th></th>\n",
       "      <th></th>\n",
       "      <th></th>\n",
       "      <th></th>\n",
       "      <th></th>\n",
       "      <th></th>\n",
       "      <th></th>\n",
       "      <th></th>\n",
       "      <th></th>\n",
       "      <th></th>\n",
       "      <th></th>\n",
       "      <th></th>\n",
       "      <th></th>\n",
       "      <th></th>\n",
       "      <th></th>\n",
       "      <th></th>\n",
       "      <th></th>\n",
       "      <th></th>\n",
       "      <th></th>\n",
       "      <th></th>\n",
       "      <th></th>\n",
       "      <th></th>\n",
       "      <th></th>\n",
       "      <th></th>\n",
       "      <th></th>\n",
       "      <th></th>\n",
       "      <th></th>\n",
       "      <th></th>\n",
       "      <th></th>\n",
       "      <th></th>\n",
       "      <th></th>\n",
       "      <th></th>\n",
       "      <th></th>\n",
       "      <th></th>\n",
       "      <th></th>\n",
       "      <th></th>\n",
       "      <th></th>\n",
       "      <th></th>\n",
       "      <th></th>\n",
       "      <th></th>\n",
       "      <th>LI - List of Experience Information</th>\n",
       "    </tr>\n",
       "  </thead>\n",
       "  <tbody>\n",
       "    <tr>\n",
       "      <th>[{\"company\":\"Next Billion Advisors\"</th>\n",
       "      <th>title:\"Product Advisor\"</th>\n",
       "      <th>description:\"\"</th>\n",
       "      <th>location:\"San Francisco Bay Area\"</th>\n",
       "      <th>company_linkedin_profile_url:\"https://www.linkedin.com/company/nxtblln/\"</th>\n",
       "      <th>months:24}</th>\n",
       "      <th>{\"company\":\"On Deck\"</th>\n",
       "      <th>title:\"Community Building &amp; No Code Fellow\"</th>\n",
       "      <th>description:\"\"</th>\n",
       "      <th>location:\"\"</th>\n",
       "      <th>company_linkedin_profile_url:\"https://www.linkedin.com/company/beondeck/\"</th>\n",
       "      <th>months:9}</th>\n",
       "      <th>{\"company\":\"Pariti\"</th>\n",
       "      <th>title:\"Chief Data Officer\"</th>\n",
       "      <th>description:\"\"</th>\n",
       "      <th>location:\"\"</th>\n",
       "      <th>company_linkedin_profile_url:\"https://www.linkedin.com/company/paritinetworks/\"</th>\n",
       "      <th>months:39}</th>\n",
       "      <th>{\"company\":\"Pariti\"</th>\n",
       "      <th>title:\"Chief Product Officer\"</th>\n",
       "      <th>description:\"Pariti is a community backed marketplace building a digital campus for entrepreneurship in emerging markets. \\n\\nhttps://www.pariti.io/\"</th>\n",
       "      <th>location:\"\"</th>\n",
       "      <th>company_linkedin_profile_url:\"https://www.linkedin.com/company/paritinetworks/\"</th>\n",
       "      <th>months:39}</th>\n",
       "      <th>{\"company\":\"Instagram\"</th>\n",
       "      <th>title:\"Technical Program Manager\"</th>\n",
       "      <th>description:\"• Led real-time communication infrastructure at Instagram</th>\n",
       "      <th>articulating technology requirements and devising performance frameworks driving scalability</th>\n",
       "      <th>reliability and efficiency.\\n• Effectively communicated infrastructure and operational strategy to executive leadership at\\nInstagram</th>\n",
       "      <th>manage cross-functional dependencies across infrastructure and product\\nmanagement across Facebook.\\n• Drove ideation and launch of innovative products with design and engineering by\\nintegrating usability studies</th>\n",
       "      <th>research and market analysis into user needs and product\\nrequirements.\"</th>\n",
       "      <th>location:\"San Francisco Bay Area\"</th>\n",
       "      <th>company_linkedin_profile_url:\"https://www.linkedin.com/company/instagram/\"</th>\n",
       "      <th>months:19}</th>\n",
       "      <th>{\"company\":\"Facebook\"</th>\n",
       "      <th>title:\"Product Analytics\"</th>\n",
       "      <th>description:\"• Scaled customer insights by creating a program to consolidate structured and\\nunstructured signals across the organization funneling advertiser feedback in the form of\\nactionable insights to product.\\n• Enhanced the advertiser experience increasing ad revenue through analyzing product\\nquality</th>\n",
       "      <th>stability</th>\n",
       "      <th>and advertiser behavior on Facebook.\\n• Innovated advertiser support by redesigning the support flow and\\ndevising an automated and scalable support platform to reduce operational costs</th>\n",
       "      <th>improve operational metrics and data collection.\"</th>\n",
       "      <th>location:\"Menlo Park</th>\n",
       "      <th>California\"</th>\n",
       "      <th>company_linkedin_profile_url:\"https://www.linkedin.com/company/facebook/\"</th>\n",
       "      <th>months:27}</th>\n",
       "      <th>{\"company\":\"Navigant\"</th>\n",
       "      <th>title:\"Senior Consultant\"</th>\n",
       "      <th>description:\"•\\tExecute engagement tasks related to banking regulations</th>\n",
       "      <th>compliance</th>\n",
       "      <th>operational improvement</th>\n",
       "      <th>technology governance</th>\n",
       "      <th>business architecture</th>\n",
       "      <th>business process management</th>\n",
       "      <th>software implementation\\n•\\tPlay a lead role in automating operational processes</th>\n",
       "      <th>ensuring integrity and consistency of data throughout various projects through unstructured/structured data manipulation.\\n•\\tSupport and contribute to the development of the practice by acting as Internal News Lead and Coordinator</th>\n",
       "      <th>Marketing Coordinator</th>\n",
       "      <th>and a co-author of a Big Data analytics thought leadership article and manage invoicing for clients\"</th>\n",
       "      <th>location:\"\"</th>\n",
       "      <th>company_linkedin_profile_url:\"https://www.linkedin.com/company/navigant/\"</th>\n",
       "      <th>months:20}</th>\n",
       "      <th>{\"company\":\"DIA Associates\"</th>\n",
       "      <th>title:\"Data Scientist\"</th>\n",
       "      <th>description:\"Responsibilities:\\n•\\tManaging a project to identify patterns of revolve behavior to signal consumers’ short-term lending needs.\\n•\\tLeverage data sources and traditional frameworks for micro-segment profitability including pricing and segmentation.\\n•\\tDesign incentivized portfolios and compensation plans for client advisors to avoid gaming behavior.\\n•\\tPresent innovative solutions to senior executives for optimal execution at a Fortune 500 credit card services client.\\n•\\tConduct and ensure quality of big data analyses using SAS and SQL on a daily basis.\"</th>\n",
       "      <th>location:\"Greater New York City Area\"</th>\n",
       "      <th>company_linkedin_profile_url:\"\"</th>\n",
       "      <td>months:11}]</td>\n",
       "    </tr>\n",
       "  </tbody>\n",
       "</table>\n",
       "</div>"
      ],
      "text/plain": [
       "                                                                                                                                                                                                                                                                                                                                                                                                                                                                                                                                                                                                                                                                                                                                                                                                                                                                                                                                                                                                                                                                                                                                                                                                                                                                                                                                                                                                                                                                                                                                                                                                                                                                                                                                                                                                                                                                                                                                                                                                                                                                LI - List of Experience Information\n",
       "[{\"company\":\"Next Billion Advisors\" title:\"Product Advisor\" description:\"\" location:\"San Francisco Bay Area\" company_linkedin_profile_url:\"https://www.linke... months:24} {\"company\":\"On Deck\" title:\"Community Building & No Code Fellow\" description:\"\" location:\"\" company_linkedin_profile_url:\"https://www.linke... months:9} {\"company\":\"Pariti\" title:\"Chief Data Officer\" description:\"\" location:\"\" company_linkedin_profile_url:\"https://www.linke... months:39} {\"company\":\"Pariti\" title:\"Chief Product Officer\" description:\"Pariti is a community backed marke... location:\"\" company_linkedin_profile_url:\"https://www.linke... months:39} {\"company\":\"Instagram\" title:\"Technical Program Manager\" description:\"• Led real-time communication infr...  articulating technology requirements and devis...  reliability and efficiency.\\n• Effectively com...  manage cross-functional dependencies across in...  research and market analysis into user needs a... location:\"San Francisco Bay Area\" company_linkedin_profile_url:\"https://www.linke... months:19} {\"company\":\"Facebook\" title:\"Product Analytics\" description:\"• Scaled customer insights by crea...  stability  and advertiser behavior on Facebook.\\n• Innova...  improve operational metrics and data collection.\" location:\"Menlo Park  California\" company_linkedin_profile_url:\"https://www.linke... months:27} {\"company\":\"Navigant\" title:\"Senior Consultant\" description:\"•\\tExecute engagement tasks relate...  compliance  operational improvement  technology governance  business architecture  business process management  software implementation\\n•\\tPlay a lead role i...  ensuring integrity and consistency of data thr...  Marketing Coordinator  and a co-author of a Big Data analytics though... location:\"\" company_linkedin_profile_url:\"https://www.linke... months:20} {\"company\":\"DIA Associates\" title:\"Data Scientist\" description:\"Responsibilities:\\n•\\tManaging a p... location:\"Greater New York City Area\" company_linkedin_profile_url:\"\"                         months:11}]"
      ]
     },
     "execution_count": 31,
     "metadata": {},
     "output_type": "execute_result"
    }
   ],
   "source": [
    "df.head()"
   ]
  }
 ],
 "metadata": {
  "kernelspec": {
   "display_name": "Python 3 (ipykernel)",
   "language": "python",
   "name": "python3"
  },
  "language_info": {
   "codemirror_mode": {
    "name": "ipython",
    "version": 3
   },
   "file_extension": ".py",
   "mimetype": "text/x-python",
   "name": "python",
   "nbconvert_exporter": "python",
   "pygments_lexer": "ipython3",
   "version": "3.11.5"
  },
  "vscode": {
   "interpreter": {
    "hash": "7f9dc718a552478e14f37d36e0ca2ac7de1ac15c04a40a415ea3abc3fe8a0a39"
   }
  }
 },
 "nbformat": 4,
 "nbformat_minor": 5
}
